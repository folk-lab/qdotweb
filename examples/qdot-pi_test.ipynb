{
 "cells": [
  {
   "cell_type": "code",
   "execution_count": 26,
   "metadata": {
    "collapsed": true
   },
   "outputs": [],
   "source": [
    "import requests"
   ]
  },
  {
   "cell_type": "markdown",
   "metadata": {},
   "source": [
    "From the command line, start the Flask application using development server on the Raspberry Pi.\n",
    "\n",
    "    python3 qdotweb.py\n",
    "    \n",
    "The default address is http://qdot-pi.phas.ubc.ca:5000 . That page will show your computer name, the local time, and a list of available ports. We can also get a list of available ports and any \\*IDN? resopnses from \\instruments"
   ]
  },
  {
   "cell_type": "code",
   "execution_count": 27,
   "metadata": {
    "collapsed": false
   },
   "outputs": [
    {
     "name": "stdout",
     "output_type": "stream",
     "text": [
      "['ASRL/dev/ttyAMA0::INSTR', 'GPIB0::4::INSTR', 'url'] ['', 'Stanford_Research_Systems,SR830,s/n46843,ver1.07 \\n', '']\n"
     ]
    }
   ],
   "source": [
    "r = requests.get('http://qdot-pi.phas.ubc.ca:5000/instruments')\n",
    "jr = r.json()\n",
    "print(jr['address'], jr['IDN'])"
   ]
  },
  {
   "cell_type": "markdown",
   "metadata": {},
   "source": [
    "There we see that at 'GPIB0::15::INSTR' (GPIB board 0, address 15) there is a Keithley 2400 Source Meter. Let's talk to it. To do that we will use the HTTP POST method to send some keyword arguments to the page."
   ]
  },
  {
   "cell_type": "code",
   "execution_count": 28,
   "metadata": {
    "collapsed": false
   },
   "outputs": [
    {
     "name": "stdout",
     "output_type": "stream",
     "text": [
      "{'command': 'connect', 'errors': '', 'address': 'GPIB0::4::INSTR', 'data': 'CONNECTED'}\n"
     ]
    }
   ],
   "source": [
    "# connect the instrument\n",
    "\n",
    "r = requests.post('http://qdot-pi.phas.ubc.ca:5000/connect', \n",
    "                  data={'address':'GPIB0::4::INSTR'})\n",
    "jr = r.json()\n",
    "print(jr)"
   ]
  },
  {
   "cell_type": "code",
   "execution_count": 40,
   "metadata": {
    "collapsed": false
   },
   "outputs": [
    {
     "name": "stdout",
     "output_type": "stream",
     "text": [
      "{'command': 'OUTP? 1', 'errors': '', 'address': 'GPIB0::4::INSTR', 'data': '0.193604\\n'}\n"
     ]
    }
   ],
   "source": [
    "# read voltage\n",
    "\n",
    "r = requests.post('http://qdot-pi.phas.ubc.ca:5000/query', \n",
    "                  data={'address':'GPIB0::4::INSTR', \n",
    "                        'command':'OUTP? 1'})\n",
    "jr = r.json()\n",
    "print(jr)"
   ]
  },
  {
   "cell_type": "code",
   "execution_count": 41,
   "metadata": {
    "collapsed": false
   },
   "outputs": [
    {
     "name": "stdout",
     "output_type": "stream",
     "text": [
      "{'command': 'close', 'errors': '', 'address': 'GPIB0::5::INSTR', 'data': 'CLOSED'}\n"
     ]
    }
   ],
   "source": [
    "# close the instrument\n",
    "\n",
    "r = requests.post('http://qdot-pi.phas.ubc.ca:5000/close', data={'address':'GPIB0::5::INSTR'})\n",
    "jr = r.json()\n",
    "print(jr)"
   ]
  },
  {
   "cell_type": "markdown",
   "metadata": {},
   "source": [
    "Obviously, there is no need to print all of that data every time. A real program might look something like the following."
   ]
  },
  {
   "cell_type": "code",
   "execution_count": 42,
   "metadata": {
    "collapsed": false
   },
   "outputs": [
    {
     "name": "stdout",
     "output_type": "stream",
     "text": [
      "72.34816074371338 ms per request\n"
     ]
    }
   ],
   "source": [
    "import time\n",
    "\n",
    "# open connection\n",
    "r = requests.post('http://qdot-pi.phas.ubc.ca:5000/connect', \n",
    "                  data={'address':'GPIB0::4::INSTR'})\n",
    "\n",
    "N=100\n",
    "tstart = time.time()\n",
    "for i in range(N):\n",
    "    r = requests.post('http://qdot-pi.phas.ubc.ca:5000/query', \n",
    "                  data={'address':'GPIB0::4::INSTR', \n",
    "                        'command':\"OUTP? 1\"})\n",
    "    data = r.json()['data']\n",
    "print('{} ms per request'.format((time.time()-tstart)*1000/N))\n",
    "\n",
    "r = requests.post('http://qdot-pi.phas.ubc.ca:5000/close', \n",
    "                  data={'address':'GPIB0::4::INSTR'})"
   ]
  },
  {
   "cell_type": "markdown",
   "metadata": {},
   "source": [
    "That is compared to 145ms per request running the same commands locally on the raspberry pi."
   ]
  }
 ],
 "metadata": {
  "anaconda-cloud": {},
  "kernelspec": {
   "display_name": "Python [conda env:py35]",
   "language": "python",
   "name": "conda-env-py35-py"
  },
  "language_info": {
   "codemirror_mode": {
    "name": "ipython",
    "version": 3
   },
   "file_extension": ".py",
   "mimetype": "text/x-python",
   "name": "python",
   "nbconvert_exporter": "python",
   "pygments_lexer": "ipython3",
   "version": "3.5.2"
  }
 },
 "nbformat": 4,
 "nbformat_minor": 0
}
