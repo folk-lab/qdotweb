{
 "cells": [
  {
   "cell_type": "code",
   "execution_count": 1,
   "metadata": {
    "collapsed": true
   },
   "outputs": [],
   "source": [
    "import requests"
   ]
  },
  {
   "cell_type": "markdown",
   "metadata": {},
   "source": [
    "From the command line, start the Flask application using development server.\n",
    "\n",
    "    python3 qdotweb.py\n",
    "    \n",
    "The default address is http://localhost:5000 . That page will show your computer name, the local time, and a list of available ports. We can also get a list of available ports and any \\*IDN? resopnses from \\instruments"
   ]
  },
  {
   "cell_type": "code",
   "execution_count": 2,
   "metadata": {
    "collapsed": false
   },
   "outputs": [
    {
     "name": "stdout",
     "output_type": "stream",
     "text": [
      "['ASRL1::INSTR', 'ASRL2::INSTR', 'GPIB0::5::INSTR', 'url'] ['', '', 'LSCI,MODEL370,370014,04102008\\n', '']\n"
     ]
    }
   ],
   "source": [
    "r = requests.get('http://localhost:5000/instruments')\n",
    "jr = r.json()\n",
    "print(jr['address'], jr['IDN'])"
   ]
  },
  {
   "cell_type": "markdown",
   "metadata": {},
   "source": [
    "There we see that at 'GPIB0::5::INSTR' (GPIB board 0, address 5) there is a LakeShore 370 Resistance Bridge. Let's talk to it. To do that we will use the HTTP POST method to send some keyword arguments to the page."
   ]
  },
  {
   "cell_type": "code",
   "execution_count": 3,
   "metadata": {
    "collapsed": false
   },
   "outputs": [
    {
     "name": "stdout",
     "output_type": "stream",
     "text": [
      "{'data': 'CONNECTED', 'errors': '', 'address': 'GPIB0::5::INSTR', 'command': 'connect'}\n"
     ]
    }
   ],
   "source": [
    "# connect the instrument\n",
    "\n",
    "r = requests.post('http://localhost:5000/connect', data={'address':'GPIB0::5::INSTR'})\n",
    "jr = r.json()\n",
    "print(jr)"
   ]
  },
  {
   "cell_type": "code",
   "execution_count": 8,
   "metadata": {
    "collapsed": false
   },
   "outputs": [
    {
     "name": "stdout",
     "output_type": "stream",
     "text": [
      "{'data': '+4.99240E+03\\n', 'errors': '', 'address': 'GPIB0::5::INSTR', 'command': 'RDGR? 2'}\n"
     ]
    }
   ],
   "source": [
    "# request the resistance reading from channel 2\n",
    "\n",
    "r = requests.post('http://localhost:5000/query', data={'address':'GPIB0::5::INSTR', 'command':'RDGR? 2'})\n",
    "jr = r.json()\n",
    "print(jr)"
   ]
  },
  {
   "cell_type": "code",
   "execution_count": 9,
   "metadata": {
    "collapsed": false
   },
   "outputs": [
    {
     "name": "stdout",
     "output_type": "stream",
     "text": [
      "{'data': 'CLOSED', 'errors': '', 'address': 'GPIB0::5::INSTR', 'command': 'close'}\n"
     ]
    }
   ],
   "source": [
    "# close the instrument\n",
    "\n",
    "r = requests.post('http://localhost:5000/close', data={'address':'GPIB0::5::INSTR'})\n",
    "jr = r.json()\n",
    "print(jr)"
   ]
  },
  {
   "cell_type": "markdown",
   "metadata": {},
   "source": [
    "Obviously, there is no need to print all of that data every time. A real program might look something like the following."
   ]
  },
  {
   "cell_type": "code",
   "execution_count": 10,
   "metadata": {
    "collapsed": false
   },
   "outputs": [
    {
     "name": "stdout",
     "output_type": "stream",
     "text": [
      "0.019798378944396972 s per request\n"
     ]
    }
   ],
   "source": [
    "import time\n",
    "\n",
    "r = requests.post('http://localhost:5000/connect', data={'address':'GPIB0::5::INSTR'})\n",
    "\n",
    "tstart = time.time()\n",
    "N=100\n",
    "\n",
    "for i in range(N):\n",
    "    r = requests.post('http://localhost:5000/query', data={'address':'GPIB0::5::INSTR', 'command':'RDGK? 2'})\n",
    "    data = r.json()['data']\n",
    "print('{} s per request'.format((time.time()-tstart)/N))\n",
    "\n",
    "r = requests.post('http://localhost:5000/close', data={'address':'GPIB0::5::INSTR'})"
   ]
  }
 ],
 "metadata": {
  "kernelspec": {
   "display_name": "Python 3",
   "language": "python",
   "name": "python3"
  },
  "language_info": {
   "codemirror_mode": {
    "name": "ipython",
    "version": 3
   },
   "file_extension": ".py",
   "mimetype": "text/x-python",
   "name": "python",
   "nbconvert_exporter": "python",
   "pygments_lexer": "ipython3",
   "version": "3.5.1"
  }
 },
 "nbformat": 4,
 "nbformat_minor": 0
}
